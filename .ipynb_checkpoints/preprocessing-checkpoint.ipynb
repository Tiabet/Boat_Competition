{
 "cells": [
  {
   "cell_type": "code",
   "id": "initial_id",
   "metadata": {
    "collapsed": true,
    "ExecuteTime": {
     "end_time": "2024-08-24T19:46:29.200336Z",
     "start_time": "2024-08-24T19:46:28.719Z"
    }
   },
   "source": [
    "import numpy as np\n",
    "import pandas as pd\n",
    "from tqdm.auto import tqdm\n",
    "\n",
    "def process_kboat_data(year):\n",
    "    def read_race_entry(year):\n",
    "        entry = pd.read_csv(f'./crawlled_data/kboat_entries_{year}.csv')\n",
    "        entry = entry.drop_duplicates()\n",
    "        entry['Race_ID'] = entry.apply(lambda row: f\"{row['연도']}_{row['회차']}_{row['일차']}_{row['경주번호']}\", axis=1)\n",
    "        columns = ['Race_ID'] + [col for col in entry.columns if col != 'Race_ID']\n",
    "        entry = entry[columns].reset_index(drop=True)\n",
    "        return entry\n",
    "\n",
    "    def extract_first_player(df):\n",
    "        del_list = ['①', '②', '③', '④', '⑤', '⑥']\n",
    "        for item in del_list:\n",
    "            df = df.replace(item, \" \")\n",
    "        return df[:5].strip()  # 첫 번째 3글자를 반환 (공백 포함)\n",
    "\n",
    "    def read_race_result(year):\n",
    "        result = pd.read_csv(f'./crawlled_data/kboat_result_{year}.csv')\n",
    "        result = result.drop_duplicates()\n",
    "        result['경주'] = result['경주'].replace('R', '', regex=True)\n",
    "        result['경주'] = result['경주'].str.lstrip('0')\n",
    "        result['Race_ID'] = result.apply(lambda row: f\"{row['연도']}_{row['회차']}_{row['일차']}_{row['경주']}\", axis=1)\n",
    "        result = result[['Race_ID', '1위', '2위', '3위']].reset_index(drop=True)\n",
    "\n",
    "        result[\"1위\"] = result[\"1위\"].apply(extract_first_player)\n",
    "        result[\"2위\"] = result[\"2위\"].apply(extract_first_player)\n",
    "        result[\"3위\"] = result[\"3위\"].apply(extract_first_player)\n",
    "        return result\n",
    "\n",
    "    # Entry와 Result 데이터 읽기\n",
    "    entry = read_race_entry(year)\n",
    "    result = read_race_result(year)\n",
    "\n",
    "    # 두 DataFrame 병합\n",
    "    merged_df = entry.merge(result[['Race_ID', '1위', '2위', '3위']], on='Race_ID', how='left')\n",
    "\n",
    "    # rank 열을 계산\n",
    "    conditions = [\n",
    "        merged_df['선수명'] == merged_df['1위'],\n",
    "        merged_df['선수명'] == merged_df['2위'],\n",
    "        merged_df['선수명'] == merged_df['3위']\n",
    "    ]\n",
    "    choices = [1, 2, 3]\n",
    "    merged_df['rank'] = np.select(conditions, choices, default=0)\n",
    "\n",
    "    # 필요없는 열 제거\n",
    "    merged_df = merged_df.drop(columns=['1위', '2위', '3위'])\n",
    "\n",
    "    # Step 1: Race_ID별로 그룹화하고 각 그룹의 크기를 계산\n",
    "    group_sizes = merged_df.groupby('Race_ID').size()\n",
    "\n",
    "    # Step 2: 크기가 6이 아닌 Race_ID를 필터링\n",
    "    invalid_race_ids = group_sizes[group_sizes != 6].index\n",
    "\n",
    "    # Step 3: invalid_race_ids에 해당하는 행을 제거\n",
    "    filtered_df = merged_df[~merged_df['Race_ID'].isin(invalid_race_ids)]\n",
    "\n",
    "    # Step 4: rank 기준으로 3개가 아닌 Race_ID도 필터링\n",
    "    rank_count = filtered_df.groupby('Race_ID')['rank'].apply(lambda x: (x != 0).sum())\n",
    "    invalid_race_nos = rank_count[rank_count != 3].index\n",
    "    final_df = filtered_df[~filtered_df['Race_ID'].isin(invalid_race_nos)]\n",
    "\n",
    "    # 결과 DataFrame 반환\n",
    "    final_df = final_df.reset_index(drop=True)\n",
    "    return final_df\n",
    "\n",
    "\n",
    "\n",
    "# year = 2016\n",
    "# final_df = process_kboat_data(year)"
   ],
   "outputs": [],
   "execution_count": 1
  },
  {
   "metadata": {
    "ExecuteTime": {
     "end_time": "2024-08-24T20:14:32.037311Z",
     "start_time": "2024-08-24T20:14:30.346222Z"
    }
   },
   "cell_type": "code",
   "source": [
    "# 학습 데이터\n",
    "\n",
    "train = []\n",
    "\n",
    "for year in range(2016, 2022+1):\n",
    "    print(f\"Processing year: {year}\")\n",
    "    final_df = process_kboat_data(year)  # 각 연도의 데이터를 처리\n",
    "    train.append(final_df)  # 리스트에 추가\n",
    "\n",
    "\n",
    "train_df = pd.concat(train, ignore_index=True)\n",
    "# train_df.fillna('결측값', inplace=True)\n",
    "train_df.to_csv(f'./data/train.csv', index=False, encoding='utf-8-sig')"
   ],
   "id": "e18be5c4757bc599",
   "outputs": [
    {
     "name": "stdout",
     "output_type": "stream",
     "text": [
      "Processing year: 2016\n",
      "Processing year: 2017\n",
      "Processing year: 2018\n",
      "Processing year: 2019\n",
      "Processing year: 2020\n",
      "Processing year: 2021\n",
      "Processing year: 2022\n"
     ]
    },
    {
     "name": "stderr",
     "output_type": "stream",
     "text": [
      "C:\\Users\\eunhak\\anaconda3\\envs\\aimers\\lib\\site-packages\\pandas\\core\\indexes\\base.py:7834: RuntimeWarning: invalid value encountered in cast\n",
      "  values = values.astype(str)\n"
     ]
    }
   ],
   "execution_count": 14
  },
  {
   "metadata": {
    "ExecuteTime": {
     "end_time": "2024-08-24T20:14:32.384507Z",
     "start_time": "2024-08-24T20:14:32.038312Z"
    }
   },
   "cell_type": "code",
   "source": [
    "## 검증 데이터\n",
    "\n",
    "val_df = process_kboat_data(2023)\n",
    "val_df.to_csv(f'./data/val.csv', index=False, encoding='utf-8-sig')"
   ],
   "id": "745d14b68ec763a6",
   "outputs": [
    {
     "name": "stderr",
     "output_type": "stream",
     "text": [
      "C:\\Users\\eunhak\\anaconda3\\envs\\aimers\\lib\\site-packages\\pandas\\core\\indexes\\base.py:7834: RuntimeWarning: invalid value encountered in cast\n",
      "  values = values.astype(str)\n"
     ]
    }
   ],
   "execution_count": 15
  },
  {
   "metadata": {
    "ExecuteTime": {
     "end_time": "2024-08-24T20:18:35.391152Z",
     "start_time": "2024-08-24T20:15:42.823781Z"
    }
   },
   "cell_type": "code",
   "source": [
    "## 테스트 데이터\n",
    "\n",
    "import subprocess\n",
    "\n",
    "def crawl_data_for_year(year):\n",
    "    subprocess.run([\"python\", \"crawlling_entry.py\", str(year)])\n",
    "    subprocess.run([\"python\", \"crawlling_result.py\", str(year)])\n",
    "    print(f\"Crawling completed for {year}.\")\n",
    "\n",
    "crawl_data_for_year(2024)"
   ],
   "id": "64808536c676e761",
   "outputs": [
    {
     "name": "stdout",
     "output_type": "stream",
     "text": [
      "Data for 2024 not found. Starting crawling process...\n",
      "Crawling completed for 2024.\n"
     ]
    },
    {
     "name": "stderr",
     "output_type": "stream",
     "text": [
      "C:\\Users\\eunhak\\anaconda3\\envs\\aimers\\lib\\site-packages\\pandas\\core\\indexes\\base.py:7834: RuntimeWarning: invalid value encountered in cast\n",
      "  values = values.astype(str)\n"
     ]
    }
   ],
   "execution_count": 16
  },
  {
   "metadata": {},
   "cell_type": "code",
   "outputs": [],
   "execution_count": null,
   "source": [
    "test_df = process_kboat_data(2024)\n",
    "test_df.to_csv(f'./data/test.csv', index=False, encoding='utf-8-sig')"
   ],
   "id": "47c907114316e9bd"
  }
 ],
 "metadata": {
  "kernelspec": {
   "display_name": "Python 3",
   "language": "python",
   "name": "python3"
  },
  "language_info": {
   "codemirror_mode": {
    "name": "ipython",
    "version": 2
   },
   "file_extension": ".py",
   "mimetype": "text/x-python",
   "name": "python",
   "nbconvert_exporter": "python",
   "pygments_lexer": "ipython2",
   "version": "2.7.6"
  }
 },
 "nbformat": 4,
 "nbformat_minor": 5
}
