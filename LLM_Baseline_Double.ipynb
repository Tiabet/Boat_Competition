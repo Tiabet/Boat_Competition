{
 "cells": [
  {
   "cell_type": "code",
   "execution_count": 13,
   "id": "b6f7198c-1d45-40cb-912c-4b960424afc2",
   "metadata": {},
   "outputs": [],
   "source": [
    "import pandas as pd\n",
    "import numpy as np\n",
    "import os\n",
    "from encoding_function import low_frequency_to_others\n",
    "from sklearn.model_selection import KFold\n",
    "\n",
    "import warnings\n",
    "warnings.filterwarnings('ignore')"
   ]
  },
  {
   "cell_type": "code",
   "execution_count": 14,
   "id": "f0d8dbd8-ed36-4719-83e5-b675d276685d",
   "metadata": {},
   "outputs": [
    {
     "name": "stdout",
     "output_type": "stream",
     "text": [
      "(79950, 45) (6102, 45)\n"
     ]
    },
    {
     "data": {
      "text/html": [
       "<div>\n",
       "<style scoped>\n",
       "    .dataframe tbody tr th:only-of-type {\n",
       "        vertical-align: middle;\n",
       "    }\n",
       "\n",
       "    .dataframe tbody tr th {\n",
       "        vertical-align: top;\n",
       "    }\n",
       "\n",
       "    .dataframe thead th {\n",
       "        text-align: right;\n",
       "    }\n",
       "</style>\n",
       "<table border=\"1\" class=\"dataframe\">\n",
       "  <thead>\n",
       "    <tr style=\"text-align: right;\">\n",
       "      <th></th>\n",
       "      <th>Race_ID</th>\n",
       "      <th>연도</th>\n",
       "      <th>회차</th>\n",
       "      <th>일차</th>\n",
       "      <th>경주번호</th>\n",
       "      <th>번호</th>\n",
       "      <th>등급</th>\n",
       "      <th>기수</th>\n",
       "      <th>선수명</th>\n",
       "      <th>성별</th>\n",
       "      <th>...</th>\n",
       "      <th>모터_연대율3</th>\n",
       "      <th>전탑승선수1</th>\n",
       "      <th>전탑승선수2</th>\n",
       "      <th>보트번호</th>\n",
       "      <th>보트_평균착순점</th>\n",
       "      <th>보트_연대율</th>\n",
       "      <th>특이사항</th>\n",
       "      <th>단승</th>\n",
       "      <th>복승</th>\n",
       "      <th>삼복승</th>\n",
       "    </tr>\n",
       "  </thead>\n",
       "  <tbody>\n",
       "    <tr>\n",
       "      <th>0</th>\n",
       "      <td>2013_1_1_1</td>\n",
       "      <td>2013</td>\n",
       "      <td>1</td>\n",
       "      <td>1</td>\n",
       "      <td>1</td>\n",
       "      <td>1</td>\n",
       "      <td>A2</td>\n",
       "      <td>2</td>\n",
       "      <td>이용세</td>\n",
       "      <td>0</td>\n",
       "      <td>...</td>\n",
       "      <td>46.3</td>\n",
       "      <td>김신오/25</td>\n",
       "      <td>김선필/25</td>\n",
       "      <td>10</td>\n",
       "      <td>5.60</td>\n",
       "      <td>32.8</td>\n",
       "      <td>NaN</td>\n",
       "      <td>0.0</td>\n",
       "      <td>1.0</td>\n",
       "      <td>1.0</td>\n",
       "    </tr>\n",
       "    <tr>\n",
       "      <th>1</th>\n",
       "      <td>2013_1_1_1</td>\n",
       "      <td>2013</td>\n",
       "      <td>1</td>\n",
       "      <td>1</td>\n",
       "      <td>1</td>\n",
       "      <td>2</td>\n",
       "      <td>B1</td>\n",
       "      <td>7</td>\n",
       "      <td>손동민</td>\n",
       "      <td>0</td>\n",
       "      <td>...</td>\n",
       "      <td>70.9</td>\n",
       "      <td>김승택/3</td>\n",
       "      <td>경상수/1316</td>\n",
       "      <td>68</td>\n",
       "      <td>5.59</td>\n",
       "      <td>40.7</td>\n",
       "      <td>NaN</td>\n",
       "      <td>0.0</td>\n",
       "      <td>0.0</td>\n",
       "      <td>1.0</td>\n",
       "    </tr>\n",
       "    <tr>\n",
       "      <th>2</th>\n",
       "      <td>2013_1_1_1</td>\n",
       "      <td>2013</td>\n",
       "      <td>1</td>\n",
       "      <td>1</td>\n",
       "      <td>1</td>\n",
       "      <td>3</td>\n",
       "      <td>B2</td>\n",
       "      <td>11</td>\n",
       "      <td>박진서</td>\n",
       "      <td>0</td>\n",
       "      <td>...</td>\n",
       "      <td>55.7</td>\n",
       "      <td>송종해/45</td>\n",
       "      <td>문주엽/4</td>\n",
       "      <td>22</td>\n",
       "      <td>5.07</td>\n",
       "      <td>30.7</td>\n",
       "      <td>NaN</td>\n",
       "      <td>0.0</td>\n",
       "      <td>0.0</td>\n",
       "      <td>0.0</td>\n",
       "    </tr>\n",
       "    <tr>\n",
       "      <th>3</th>\n",
       "      <td>2013_1_1_1</td>\n",
       "      <td>2013</td>\n",
       "      <td>1</td>\n",
       "      <td>1</td>\n",
       "      <td>1</td>\n",
       "      <td>4</td>\n",
       "      <td>B1</td>\n",
       "      <td>4</td>\n",
       "      <td>경상수</td>\n",
       "      <td>0</td>\n",
       "      <td>...</td>\n",
       "      <td>75.0</td>\n",
       "      <td>이종한/4</td>\n",
       "      <td>문주엽/223</td>\n",
       "      <td>77</td>\n",
       "      <td>5.49</td>\n",
       "      <td>39.7</td>\n",
       "      <td>NaN</td>\n",
       "      <td>1.0</td>\n",
       "      <td>1.0</td>\n",
       "      <td>1.0</td>\n",
       "    </tr>\n",
       "    <tr>\n",
       "      <th>4</th>\n",
       "      <td>2013_1_1_1</td>\n",
       "      <td>2013</td>\n",
       "      <td>1</td>\n",
       "      <td>1</td>\n",
       "      <td>1</td>\n",
       "      <td>5</td>\n",
       "      <td>B1</td>\n",
       "      <td>8</td>\n",
       "      <td>정주현</td>\n",
       "      <td>0</td>\n",
       "      <td>...</td>\n",
       "      <td>22.4</td>\n",
       "      <td>이창규/6</td>\n",
       "      <td>반혜진/545</td>\n",
       "      <td>18</td>\n",
       "      <td>5.69</td>\n",
       "      <td>37.6</td>\n",
       "      <td>NaN</td>\n",
       "      <td>0.0</td>\n",
       "      <td>0.0</td>\n",
       "      <td>0.0</td>\n",
       "    </tr>\n",
       "  </tbody>\n",
       "</table>\n",
       "<p>5 rows × 45 columns</p>\n",
       "</div>"
      ],
      "text/plain": [
       "      Race_ID    연도  회차  일차  경주번호  번호  등급  기수  선수명  성별  ...  모터_연대율3  전탑승선수1  \\\n",
       "0  2013_1_1_1  2013   1   1     1   1  A2   2  이용세   0  ...     46.3  김신오/25   \n",
       "1  2013_1_1_1  2013   1   1     1   2  B1   7  손동민   0  ...     70.9   김승택/3   \n",
       "2  2013_1_1_1  2013   1   1     1   3  B2  11  박진서   0  ...     55.7  송종해/45   \n",
       "3  2013_1_1_1  2013   1   1     1   4  B1   4  경상수   0  ...     75.0   이종한/4   \n",
       "4  2013_1_1_1  2013   1   1     1   5  B1   8  정주현   0  ...     22.4   이창규/6   \n",
       "\n",
       "     전탑승선수2  보트번호  보트_평균착순점  보트_연대율  특이사항   단승   복승  삼복승  \n",
       "0    김선필/25    10      5.60    32.8   NaN  0.0  1.0  1.0  \n",
       "1  경상수/1316    68      5.59    40.7   NaN  0.0  0.0  1.0  \n",
       "2     문주엽/4    22      5.07    30.7   NaN  0.0  0.0  0.0  \n",
       "3   문주엽/223    77      5.49    39.7   NaN  1.0  1.0  1.0  \n",
       "4   반혜진/545    18      5.69    37.6   NaN  0.0  0.0  0.0  \n",
       "\n",
       "[5 rows x 45 columns]"
      ]
     },
     "execution_count": 14,
     "metadata": {},
     "output_type": "execute_result"
    }
   ],
   "source": [
    "def add_y(df):\n",
    "    df['rank'] = df['rank'].replace(0, 6)\n",
    "\n",
    "    target_cols = [\n",
    "        '단승', '복승', '삼복승'\n",
    "    ]\n",
    "    for i, col in enumerate(target_cols):\n",
    "        condition_target = df['rank'] <= i+1\n",
    "        df.loc[condition_target, col] = 1\n",
    "\n",
    "    df[target_cols] = df[target_cols].fillna(0)\n",
    "    df.drop(['rank'], axis=1, inplace=True)\n",
    "    return df\n",
    "\n",
    "\n",
    "ROOT_DIR = \"data\"\n",
    "RANDOM_STATE = 42\n",
    "\n",
    "train = pd.read_csv(os.path.join(ROOT_DIR, \"train.csv\"))\n",
    "test = pd.read_csv(os.path.join(ROOT_DIR, \"test.csv\"))\n",
    "\n",
    "train['성별'] = train['성별'].map({'남': 0, '여': 1})\n",
    "test['성별'] = test['성별'].map({'남': 0, '여': 1})\n",
    "\n",
    "train = add_y(train)\n",
    "test = add_y(test)\n",
    "\n",
    "print(train.shape, test.shape)\n",
    "train.head()"
   ]
  },
  {
   "cell_type": "code",
   "execution_count": 15,
   "id": "feaf207e-6ef9-4ac3-bfcc-522152d8cad9",
   "metadata": {},
   "outputs": [],
   "source": [
    "def add_weight_penalty(df):\n",
    "    weight_limit_male = 55\n",
    "    weight_limit_female = 51\n",
    "    df['체중'] = df['체중'].astype(float)\n",
    "    \n",
    "    # 중량 부과 여부 계산 (성별에 따라 다른 기준 적용)\n",
    "    df['중량부과여부'] = df.apply(lambda row: 1 if (row['성별'] == 0 and row['체중'] < weight_limit_male) or\n",
    "                                             (row['성별'] == 1 and row['체중'] < weight_limit_female) else 0, axis=1)\n",
    "\n",
    "    # 부과된 중량 계산 (성별에 따라 차감된 체중을 계산)\n",
    "    df['부과된중량'] = df.apply(lambda row: max(0, weight_limit_male - row['체중']) if row['성별'] == 0 else\n",
    "    max(0, weight_limit_female - row['체중']), axis=1)\n",
    "    \n",
    "    df.drop('체중', axis=1, inplace=True)\n",
    "\n",
    "    return df\n",
    "\n",
    "train = add_weight_penalty(train)\n",
    "test = add_weight_penalty(test)"
   ]
  },
  {
   "cell_type": "code",
   "execution_count": 16,
   "id": "d72fa055-c055-44c0-9420-175a950fb357",
   "metadata": {},
   "outputs": [],
   "source": [
    "def bin_age(df):\n",
    "    # 나이를 5개 구간으로 나누어 bin화 (예: 0-20, 20-30, 30-40, 40-50, 50+)\n",
    "    bins = [20, 30, 40, 50, 100]\n",
    "    labels = ['20-30', '30-40', '40-50', '50+']\n",
    "\n",
    "    # 나이 변수를 bin화\n",
    "    df['나이'] = pd.cut(df['나이'], bins=bins, labels=labels, right=False)\n",
    "\n",
    "    return df\n",
    "\n",
    "train = bin_age(train)\n",
    "test = bin_age(test)"
   ]
  },
  {
   "cell_type": "code",
   "execution_count": 17,
   "id": "e2ab7988-9383-44f8-bbd8-1c5a83c53493",
   "metadata": {},
   "outputs": [
    {
     "name": "stdout",
     "output_type": "stream",
     "text": [
      "(79950, 35) (6102, 35)\n"
     ]
    }
   ],
   "source": [
    "def drop_columns_from_datasets(df):\n",
    "    drop_cols = [\n",
    "        '연도', '회차', '일차', '경주번호',\n",
    "        '금일출주경주',\n",
    "        '모터번호', '전탑승선수1', '전탑승선수2',\n",
    "        '보트번호', '특이사항',\n",
    "        'FL' # F뒤의 숫자는 현재 반기의 실격 횟수, L뒤의 숫자는 반칙횟수?\n",
    "    ]\n",
    "\n",
    "    df = df.drop(drop_cols, axis=1)\n",
    "\n",
    "    return df\n",
    "\n",
    "\n",
    "train = drop_columns_from_datasets(train)\n",
    "test = drop_columns_from_datasets(test)\n",
    "\n",
    "print(train.shape, test.shape)"
   ]
  },
  {
   "cell_type": "code",
   "execution_count": 18,
   "id": "0887a192-d8ee-4ba7-8a8c-e04114a9b3f2",
   "metadata": {},
   "outputs": [],
   "source": [
    "def reverse_rank_values(df_train, df_val):\n",
    "    cols_to_reverse = [\n",
    "        '최근6회차_평균착순점', '최근6회차_평균득점',\n",
    "        '연간성적_평균착순점',\n",
    "        '모터_평균착순점',\n",
    "        '보트_평균착순점'\n",
    "    ]\n",
    "    for col in cols_to_reverse:\n",
    "        max_rank = df_train[col].max()\n",
    "        # print(f'{col}: {max_rank}')\n",
    "        df_train[col] = max_rank - df_train[col]\n",
    "        df_val[col] = max_rank - df_val[col]\n",
    "    \n",
    "        df_train[col].fillna(0, inplace=True)\n",
    "        df_val[col].fillna(0, inplace=True)\n",
    "    \n",
    "    return df_train, df_val\n",
    "\n",
    "\n",
    "train, test = reverse_rank_values(train, test)"
   ]
  },
  {
   "cell_type": "code",
   "execution_count": 19,
   "id": "a6477613-c284-424f-80c4-4f20a12c2b3f",
   "metadata": {},
   "outputs": [],
   "source": [
    "import re\n",
    "\n",
    "def extract_numbers(result):\n",
    "    if isinstance(result, str):  # result가 문자열인 경우에만 처리\n",
    "        return re.findall(r'-(\\d+)-', result)  # -숫자- 형식에서 중간 숫자 추출\n",
    "    return []  # 문자열이 아니면 빈 리스트 반환\n",
    "\n",
    "def calculate_mean(numbers):\n",
    "    numbers = [int(num) for num in numbers]  # 리스트 안의 문자열 숫자를 정수로 변환\n",
    "    if len(numbers) > 0:\n",
    "        return np.mean(numbers)  # 리스트가 비어있지 않으면 평균 계산\n",
    "    else:\n",
    "        return np.nan  # 빈 리스트인 경우 NaN 반환\n",
    "\n",
    "def last_race_process(df_train, df_val):\n",
    "    df_train['전일성적'] = df_train['전일성적'].apply(extract_numbers)  # 순위만 추출 (코스도 같이 추출?)\n",
    "    df_train['전일성적'] = df_train['전일성적'].apply(calculate_mean) # 평균 계산\n",
    "\n",
    "    df_val['전일성적'] = df_val['전일성적'].apply(extract_numbers)\n",
    "    df_val['전일성적'] = df_val['전일성적'].apply(calculate_mean)\n",
    "\n",
    "    max_rank = df_train['전일성적'].max()\n",
    "    df_train['전일성적'] = max_rank - df_train['전일성적'] + 1\n",
    "    df_val['전일성적'] = max_rank - df_val['전일성적'] + 1\n",
    "    \n",
    "    df_train['전일성적'].fillna(1, inplace=True)\n",
    "    df_val['전일성적'].fillna(1, inplace=True)\n",
    "    \n",
    "    return df_train, df_val\n",
    "\n",
    "train, test = last_race_process(train, test)"
   ]
  },
  {
   "cell_type": "code",
   "execution_count": 20,
   "id": "38cf3bcf-16b3-45aa-9336-0cb539a1bd6d",
   "metadata": {},
   "outputs": [
    {
     "name": "stdout",
     "output_type": "stream",
     "text": [
      "(79950, 41) (6102, 41)\n"
     ]
    }
   ],
   "source": [
    "def separation_course(df):\n",
    "    col_list = [\n",
    "        '코스_1코스', '코스_2코스', '코스_3코스', '코스_4코스', '코스_5코스', '코스_6코스'\n",
    "    ]\n",
    "    for col in col_list:\n",
    "        df[[f'{col[3:]}_성적', f'{col[3:]}_경기수']] = df[col].fillna('').str.split('/', expand=True)\n",
    "\n",
    "    df.drop(col_list, axis=1, inplace=True)\n",
    "\n",
    "    return df\n",
    "        \n",
    "\n",
    "\n",
    "train = separation_course(train)\n",
    "test = separation_course(test)\n",
    "\n",
    "print(train.shape, test.shape)"
   ]
  },
  {
   "cell_type": "code",
   "execution_count": 21,
   "id": "438cb0af-01bc-4458-9377-d3e644eb534c",
   "metadata": {},
   "outputs": [
    {
     "name": "stdout",
     "output_type": "stream",
     "text": [
      "(79950, 35) (6102, 35)\n"
     ]
    }
   ],
   "source": [
    "def apply_laplace_smoothing(df, col, global_mean, alpha):\n",
    "    # 경기수 0인 값이 너무 높게 나오는 경향이 있어 분모에 상수 1 추가(없애도 됨)\n",
    "    encoded_value = (df[f'{col}_성적'] * df[f'{col}_경기수'] + global_mean * alpha) / (1 + df[f'{col}_경기수'] + alpha)\n",
    "    df[f'{col}_성적'] = encoded_value\n",
    "\n",
    "    return df\n",
    "\n",
    "def laplace_smoothing_to_course(train, val=None, alpha=1):\n",
    "    col_list = [\n",
    "        '1코스', '2코스', '3코스', '4코스', '5코스', '6코스'\n",
    "    ]\n",
    "    for col in col_list:\n",
    "        train[f'{col}_성적'] = train[f'{col}_성적'].astype(float)\n",
    "        train[f'{col}_경기수'] = train[f'{col}_경기수'].astype(float)\n",
    "        if val is not None:\n",
    "            val[f'{col}_성적'] = val[f'{col}_성적'].astype(float)\n",
    "            val[f'{col}_경기수'] = val[f'{col}_경기수'].astype(float)\n",
    "\n",
    "    # Train 데이터에서 글로벌 평균 계산\n",
    "    global_means = {col: train[f'{col}_성적'].mean() for col in col_list}\n",
    "\n",
    "    for col in col_list:\n",
    "        # Train 데이터에 라플라스 스무딩 적용\n",
    "        train = apply_laplace_smoothing(train, col, global_means[col], alpha)\n",
    "        train.drop(f'{col}_경기수', axis=1, inplace=True)\n",
    "\n",
    "    if val is not None:\n",
    "        for col in col_list:\n",
    "            # Validation 데이터에 Train에서 구한 글로벌 평균으로 라플라스 스무딩 적용\n",
    "            val = apply_laplace_smoothing(val, col, global_means[col], alpha)\n",
    "            val.drop(f'{col}_경기수', axis=1, inplace=True)\n",
    "\n",
    "    if val is not None:\n",
    "        return train, val\n",
    "    else:\n",
    "        return train\n",
    "\n",
    "\n",
    "train, test = laplace_smoothing_to_course(train, test, alpha=1) # 알파가 작을수록 빈도수에 가깝세, 알파가 클수록 전체 평균에 가깝게\n",
    "print(train.shape, test.shape)"
   ]
  },
  {
   "cell_type": "code",
   "execution_count": 22,
   "id": "f638c1d7-0950-4edc-aa8a-99e539dbecd4",
   "metadata": {},
   "outputs": [],
   "source": [
    "def set_course_scores(df):\n",
    "    # '코스_성적' 열을 초기화\n",
    "    df['코스_성적'] = 0\n",
    "\n",
    "    # '번호' 열에 따른 '코스_성적' 값 설정\n",
    "    for i in range(1, 7):\n",
    "        mask = df['번호'] == i\n",
    "        df.loc[mask, '코스_성적'] = df.loc[mask, f'{i}코스_성적']\n",
    "\n",
    "    # 제거할 열 목록\n",
    "    drop_cols = [f'{i}코스_성적' for i in range(1, 7)]\n",
    "\n",
    "    # 열 제거\n",
    "    df = df.drop(columns=drop_cols)\n",
    "\n",
    "    return df\n",
    "\n",
    "\n",
    "from sklearn.decomposition import PCA\n",
    "def apply_pca(df_train, df_val, n_components=2):\n",
    "    course_cols = [f'{i}코스_성적' for i in range(1, 7)]\n",
    "\n",
    "    pca = PCA(n_components=n_components)\n",
    "    pca.fit(df_train[course_cols])\n",
    "\n",
    "    # 훈련 데이터에 PCA 변환 적용 (transform)\n",
    "    train_pca = pca.transform(df_train[course_cols])\n",
    "    val_pca = pca.transform(df_val[course_cols])\n",
    "    for i in range(n_components):\n",
    "        col_name = f'PCA_코스성적_{i+1}'\n",
    "        df_train[col_name] = train_pca[:, i]\n",
    "        df_val[col_name] = val_pca[:, i]\n",
    "\n",
    "    # 각 컴포넌트별 분산 설명 비율 출력\n",
    "    # explained_variance_ratios = pca.explained_variance_ratio_\n",
    "    # for i, ratio in enumerate(explained_variance_ratios):\n",
    "    #     print(f\"PCA Component {i+1}: {ratio:.4f} variance explained\")\n",
    "    \n",
    "    # n_components=2가 제일 좋아보임\n",
    "\n",
    "    return df_train, df_val\n",
    "\n",
    "\n",
    "train, test = apply_pca(train, test, n_components=2)\n",
    "train = set_course_scores(train)\n",
    "test = set_course_scores(test)"
   ]
  },
  {
   "cell_type": "code",
   "execution_count": 23,
   "id": "5649fab6-ecdb-40a8-ae8a-da2d73661bad",
   "metadata": {},
   "outputs": [
    {
     "name": "stdout",
     "output_type": "stream",
     "text": [
      "(79950, 32) (6102, 32)\n"
     ]
    }
   ],
   "source": [
    "def split_last_eight_rank(df):\n",
    "    for i in range(0, 4):\n",
    "        df[f'최근{i+1}경기_착순'] = df['최근8경주_착순'].str[i]\n",
    "    for j in range(5, 9):\n",
    "        df[f'최근{j}경기_착순'] = df['최근8경주_착순'].str[j]\n",
    "        \n",
    "    df.drop('최근8경주_착순', axis=1, inplace=True)\n",
    "    \n",
    "    return df\n",
    "\n",
    "# def adjust_for_top3(df):\n",
    "#     col_list = [\n",
    "#         '최근1경기_착순', '최근2경기_착순', '최근3경기_착순', '최근4경기_착순',\n",
    "#         '최근5경기_착순', '최근6경기_착순', '최근7경기_착순', '최근8경기_착순'\n",
    "#     ]\n",
    "# \n",
    "#     for col in col_list:\n",
    "#     # 순위가 1, 2, 3이 아닌 경우, 결측인 경우, 6으로 조정\n",
    "#     # (일반화된 성능을 위해 + 3등내에 드는게 중요)\n",
    "#         df[col] = df[col].apply(lambda x: x if x in ['1', '2', '3'] else '-1')\n",
    "# \n",
    "#     return df\n",
    "\n",
    "def adjust_last_eight_rank(df_train, df_val):\n",
    "    col_list = [\n",
    "        '최근1경기_착순', '최근2경기_착순', '최근3경기_착순', '최근4경기_착순',\n",
    "        '최근5경기_착순', '최근6경기_착순', '최근7경기_착순', '최근8경기_착순'\n",
    "    ]\n",
    "\n",
    "    for col in col_list:\n",
    "        df_train[col] = df_train[col].fillna(6).astype(int)\n",
    "        df_val[col] = df_val[col].fillna(6).astype(int)\n",
    "        \n",
    "        df_train[col] = df_train[col].replace(0, 6)  # 가끔씩 0이 있는 경우가 존재\n",
    "        df_val[col] = df_val[col].replace(0, 6)\n",
    "\n",
    "        max_rank = df_train[col].max()\n",
    "        df_train[col] = max_rank - df_train[col]\n",
    "        df_val[col] = max_rank - df_val[col]\n",
    "    \n",
    "    first_mean_cols = 3\n",
    "    col_to_mean_1 = col_list[:first_mean_cols]\n",
    "\n",
    "    df_train[f'최근{first_mean_cols}경기_평균'] = df_train[col_to_mean_1].mean(axis=1)\n",
    "    df_val[f'최근{first_mean_cols}경기_평균'] = df_val[col_to_mean_1].mean(axis=1)\n",
    "\n",
    "    df_train.drop(col_list, axis=1, inplace=True)\n",
    "    df_val.drop(col_list, axis=1, inplace=True)\n",
    "\n",
    "    return df_train, df_val\n",
    "\n",
    "\n",
    "train = split_last_eight_rank(train)\n",
    "# train = adjust_for_top3(train)\n",
    "\n",
    "test = split_last_eight_rank(test)\n",
    "# test = adjust_for_top3(test)\n",
    "\n",
    "train, test = adjust_last_eight_rank(train, test)\n",
    "\n",
    "print(train.shape, test.shape)"
   ]
  },
  {
   "cell_type": "code",
   "execution_count": 24,
   "id": "ee288d30-40f6-4852-80b3-ee0a0a4bd465",
   "metadata": {},
   "outputs": [
    {
     "data": {
      "text/plain": [
       "['등급', '번호', '선수명', '나이']"
      ]
     },
     "execution_count": 24,
     "metadata": {},
     "output_type": "execute_result"
    }
   ],
   "source": [
    "def cal_cat_cols(train, val=None):\n",
    "    objective_cols = []\n",
    "\n",
    "    # 특정 문자열이 포함된 열을 범주형 변수로 지정\n",
    "    # cat_kerword_list = ['번호', '기수', '경기_착순']\n",
    "    cat_kerword_list = ['번호']\n",
    "    for col in train.columns:\n",
    "        if any(sub in col for sub in cat_kerword_list):\n",
    "            objective_cols.append(col)\n",
    "            train[col] = train[col].astype('str')\n",
    "            val[col] = val[col].astype('str')\n",
    "            \n",
    "    # 나머지 열에 대해 숫자형 변환 시도\n",
    "    for col in train.columns:\n",
    "        if col in objective_cols:\n",
    "            continue  # 이미 범주형으로 처리된 열은 제외\n",
    "        try:\n",
    "            # 'float' 타입으로 변환 시도\n",
    "            train[col] = train[col].astype('float')\n",
    "            val[col] = val[col].astype('float')\n",
    "        except:\n",
    "            objective_cols.append(col)\n",
    "\n",
    "    cat_features = list(set(objective_cols) - set(['rank', 'Race_ID']))\n",
    "    cat_features = [feature for feature in cat_features if '단승' not in feature]\n",
    "    cat_features = [feature for feature in cat_features if '복승' not in feature]\n",
    "    cat_features = [feature for feature in cat_features if '삼복승' not in feature]\n",
    "\n",
    "    return cat_features\n",
    "\n",
    "\n",
    "cat_features = cal_cat_cols(train, test)\n",
    "cat_features"
   ]
  },
  {
   "cell_type": "code",
   "execution_count": 25,
   "id": "1005456c-9f7b-49e2-a34f-aa5d987a0703",
   "metadata": {},
   "outputs": [
    {
     "name": "stdout",
     "output_type": "stream",
     "text": [
      "(79950, 25) (79950, 1) (6102, 25) (6102, 1)\n"
     ]
    }
   ],
   "source": [
    "drop_cols = [\n",
    "    'Race_ID', '번호', '단승', '복승', '삼복승', '선수명', '기수'\n",
    "]\n",
    "\n",
    "X_train = train.drop(drop_cols, axis=1)\n",
    "y_train = train[['단승']]\n",
    "X_test = test.drop(drop_cols, axis=1)\n",
    "y_test = test[['단승']]\n",
    "\n",
    "print(X_train.shape, y_train.shape, X_test.shape, y_test.shape)"
   ]
  },
  {
   "cell_type": "code",
   "execution_count": 68,
   "id": "ca7746e0-af4b-42e7-b3a7-745b7e3ef311",
   "metadata": {},
   "outputs": [
    {
     "name": "stdout",
     "output_type": "stream",
     "text": [
      "(79950, 25) (79950, 1) (6102, 25) (6102, 1)\n"
     ]
    }
   ],
   "source": [
    "def all_precoess(train, val, target='복승', is_train=True):\n",
    "    train['성별'] = train['성별'].map({'남': 0, '여': 1})\n",
    "    val['성별'] = val['성별'].map({'남': 0, '여': 1})\n",
    "    \n",
    "    train = add_y(train)\n",
    "    if is_train:\n",
    "        val = add_y(val)\n",
    "\n",
    "    train = add_weight_penalty(train) # 연승 정확도를 높이려면 제거\n",
    "    val = add_weight_penalty(val) \n",
    "\n",
    "    train = bin_age(train)\n",
    "    val = bin_age(val)\n",
    "    \n",
    "    train = drop_columns_from_datasets(train)\n",
    "    val = drop_columns_from_datasets(val)\n",
    "\n",
    "    train, val = last_race_process(train, val)\n",
    "\n",
    "    train, val = reverse_rank_values(train, val)\n",
    "\n",
    "    train = separation_course(train)\n",
    "    val = separation_course(val)\n",
    "\n",
    "    train, val = laplace_smoothing_to_course(train, val, alpha=1)\n",
    "\n",
    "    train, val = apply_pca(train, val, n_components=2)\n",
    "    \n",
    "    train = set_course_scores(train)\n",
    "    val = set_course_scores(val)\n",
    "    \n",
    "    train = split_last_eight_rank(train)\n",
    "    # train = adjust_for_top3(train)\n",
    "    \n",
    "    val = split_last_eight_rank(val)\n",
    "    # val = adjust_for_top3(val)\n",
    "\n",
    "    train, val = adjust_last_eight_rank(train, val)\n",
    "\n",
    "    if is_train:\n",
    "        drop_cols = [\n",
    "            'Race_ID', '번호', '단승', '복승', '삼복승', '선수명', '기수'\n",
    "        ]\n",
    "    else:\n",
    "        drop_cols = [\n",
    "            '번호', '선수명', '기수'\n",
    "        ]\n",
    "    \n",
    "    X_train = train.drop(drop_cols, axis=1)\n",
    "    y_train = train[[target]]\n",
    "    # X_train = reshape_race_data(X_train, players_per_race=6)\n",
    "    # y_train = reshape_race_data(y_train, players_per_race=6)\n",
    "    y_train = np.array(y_train).astype(int)\n",
    "\n",
    "    X_val = val.drop(drop_cols, axis=1)\n",
    "    # X_val = reshape_race_data(X_val, players_per_race=6)\n",
    "    if is_train:\n",
    "        y_val = val[[target]]\n",
    "        # y_val = reshape_race_data(y_val, players_per_race=6)\n",
    "        y_val = np.array(y_val).astype(int)\n",
    "\n",
    "    # X_train, X_val = low_to_others(X_train, X_val, threshold=5, is_train=is_train, verbose=False)\n",
    "    \n",
    "    if is_train:\n",
    "        return X_train, y_train, X_val, y_val\n",
    "    else:\n",
    "        return X_train, y_train, X_val\n",
    "    \n",
    "train = pd.read_csv(os.path.join(ROOT_DIR, \"train.csv\"))\n",
    "test = pd.read_csv(os.path.join(ROOT_DIR, \"test.csv\"))\n",
    "\n",
    "X_train, y_train, X_test, y_test = all_precoess(train, test, is_train=True)\n",
    "\n",
    "print(X_train.shape, y_train.shape, X_test.shape, y_test.shape)"
   ]
  },
  {
   "cell_type": "code",
   "execution_count": 69,
   "id": "bc262eba-1b6a-4178-b26c-3a1c8ee224be",
   "metadata": {},
   "outputs": [],
   "source": [
    "train = pd.read_csv(os.path.join(ROOT_DIR, \"train.csv\"))\n",
    "val = pd.read_csv(os.path.join(ROOT_DIR, \"val.csv\"))"
   ]
  },
  {
   "cell_type": "code",
   "execution_count": 70,
   "id": "83c4a805-c75c-4799-8412-79e56046d74d",
   "metadata": {},
   "outputs": [],
   "source": [
    "target_value='복승'\n",
    "X_train, y_train, X_val, y_val = all_precoess(train, val, target=target_value, is_train=True)"
   ]
  },
  {
   "cell_type": "code",
   "execution_count": 71,
   "id": "5be2e5b0-d87c-4fba-b278-420c4952d711",
   "metadata": {},
   "outputs": [
    {
     "name": "stdout",
     "output_type": "stream",
     "text": [
      "(79950, 25) (79950, 1) (8952, 25) (8952, 1)\n"
     ]
    }
   ],
   "source": [
    "print(X_train.shape, y_train.shape, X_val.shape, y_val.shape)"
   ]
  },
  {
   "cell_type": "code",
   "execution_count": 72,
   "id": "b8e4609a-5444-4ac8-837f-49546403e366",
   "metadata": {},
   "outputs": [
    {
     "name": "stdout",
     "output_type": "stream",
     "text": [
      "26650\n"
     ]
    }
   ],
   "source": [
    "# Count the number of 1s\n",
    "count_of_ones = np.count_nonzero(y_train == 1)\n",
    "\n",
    "print(count_of_ones)"
   ]
  },
  {
   "cell_type": "code",
   "execution_count": 73,
   "id": "e60643bb-e530-4ae0-bfb2-fa9d0b97696c",
   "metadata": {},
   "outputs": [],
   "source": [
    "X_train['result'] = y_train\n",
    "X_val['result'] = y_val\n",
    "X_test['result'] = y_test"
   ]
  },
  {
   "cell_type": "code",
   "execution_count": 74,
   "id": "756e3fb5-4b3f-4023-83fe-647370a8a967",
   "metadata": {},
   "outputs": [],
   "source": [
    "data = X_train"
   ]
  },
  {
   "cell_type": "code",
   "execution_count": 75,
   "id": "4c50b7e7-2a65-428b-9742-2f0dd7c1ef0b",
   "metadata": {},
   "outputs": [],
   "source": [
    "grouped_data = [data.iloc[i:i+6] for i in range(66000, len(data), 6)]"
   ]
  },
  {
   "cell_type": "code",
   "execution_count": 76,
   "id": "a3400143-2b5d-4201-8b1f-5c45423343f7",
   "metadata": {},
   "outputs": [
    {
     "data": {
      "text/plain": [
       "2325"
      ]
     },
     "execution_count": 76,
     "metadata": {},
     "output_type": "execute_result"
    }
   ],
   "source": [
    "len(grouped_data)"
   ]
  },
  {
   "cell_type": "code",
   "execution_count": 77,
   "id": "1eb72a7c-6843-4e04-a7b2-47ca803d9f41",
   "metadata": {},
   "outputs": [
    {
     "data": {
      "text/plain": [
       "Index(['등급', '성별', '나이', '최근6회차_평균착순점', '최근6회차_평균득점', '최근6회차_승률', '최근6회차_연대율2',\n",
       "       '최근6회차_연대율3', '최근6회차_평균ST', '연간성적_평균착순점', '연간성적_연대율', '평균사고점', '전일성적',\n",
       "       '출주횟수', '모터_평균착순점', '모터_연대율2', '모터_연대율3', '보트_평균착순점', '보트_연대율',\n",
       "       '중량부과여부', '부과된중량', 'PCA_코스성적_1', 'PCA_코스성적_2', '코스_성적', '최근3경기_평균',\n",
       "       'result'],\n",
       "      dtype='object')"
      ]
     },
     "execution_count": 77,
     "metadata": {},
     "output_type": "execute_result"
    }
   ],
   "source": [
    "X_train.columns"
   ]
  },
  {
   "cell_type": "code",
   "execution_count": 101,
   "id": "a69eb9bc-e0d4-452f-9ff4-09a350e8d478",
   "metadata": {},
   "outputs": [],
   "source": [
    "# Adjust the function to correctly determine the winning player index within each group\n",
    "def create_jsonl_format_grouped(group):\n",
    "    # Constructing the user input prompt with relevant player information for a group of 6\n",
    "    user_input = \" \".join([\n",
    "        f\"선수{i+1}: 등급: {row['등급']}, 성별: {row['성별']}, 나이: {row['나이']}, \"\n",
    "        f\"최근6회차_평균착순점: {row['최근6회차_평균착순점']:.2f}, 최근6회차_평균득점: {row['최근6회차_평균득점']:.2f}, \"\n",
    "        f\"최근6회차_승률: {row['최근6회차_승률']}, 최근6회차_연대율2: {row['최근6회차_연대율2']}, \"\n",
    "        f\"최근6회차_연대율3: {row['최근6회차_연대율3']}, 최근6회차_평균ST: {row['최근6회차_평균ST']}, \"\n",
    "        f\"연간성적_평균착순점: {row['연간성적_평균착순점']}, 연간성적_연대율: {row['연간성적_연대율']}, \"\n",
    "        f\"평균사고점: {row['평균사고점']}, 전일성적: {row['전일성적']}, 출주횟수: {row['출주횟수']}, \"\n",
    "        f\"모터_평균착순점: {row['모터_평균착순점']:.2f}, 모터_연대율2: {row['모터_연대율2']}, \"\n",
    "        f\"모터_연대율3: {row['모터_연대율3']}, 보트_평균착순점: {row['보트_평균착순점']:.2f}, \"\n",
    "        f\"보트_연대율: {row['보트_연대율']}, 중량부과여부: {row['중량부과여부']}, 부과된중량: {row['부과된중량']}, \"\n",
    "        f\"PCA_코스성적_1: {row['PCA_코스성적_1']:.2f}, PCA_코스성적_2: {row['PCA_코스성적_2']:.2f}, \"\n",
    "        f\"코스_성적: {row['코스_성적']:.2f}, 최근3경기_평균: {row['최근3경기_평균']:.2f}\"\n",
    "        for i, (_, row) in enumerate(group.iterrows())\n",
    "    ])\n",
    "\n",
    "\n",
    "    winning_players_indices = (group[group['result'] == 1].index % 6 + 1).tolist()\n",
    "    assistant_output = f\"우승한 선수의 번호는 {', '.join(map(str, winning_players_indices))}번 입니다.\"\n",
    "    \n",
    "    jsonl_entry = {\n",
    "        \"messages\": [\n",
    "            {\"role\": \"system\", \"content\": \"당신은 유능한 순위예측 전문가입니다.\"},\n",
    "            {\"role\": \"user\", \"content\": user_input.strip()},\n",
    "            {\"role\": \"assistant\", \"content\": assistant_output.strip()}\n",
    "        ]\n",
    "    }\n",
    "    return jsonl_entry"
   ]
  },
  {
   "cell_type": "code",
   "execution_count": 102,
   "id": "bc861e7b-6ae9-47cb-8bac-c359d2be1ab1",
   "metadata": {},
   "outputs": [],
   "source": [
    "jsonl_data_grouped = [create_jsonl_format_grouped(group) for group in grouped_data if len(group) == 6]"
   ]
  },
  {
   "cell_type": "code",
   "execution_count": 103,
   "id": "5c5abbe2-48cc-4e00-b8f6-04320c28b01f",
   "metadata": {},
   "outputs": [
    {
     "data": {
      "text/plain": [
       "[{'role': 'system', 'content': '당신은 유능한 순위예측 전문가입니다.'},\n",
       " {'role': 'user',\n",
       "  'content': '선수1: 등급: B1, 성별: 1, 나이: 30-40, 최근6회차_평균착순점: 5.13, 최근6회차_평균득점: 5.47, 최근6회차_승률: 6.7, 최근6회차_연대율2: 46.7, 최근6회차_연대율3: 53.3, 최근6회차_평균ST: 0.23, 연간성적_평균착순점: 6.25, 연간성적_연대율: 33.3, 평균사고점: 0.42, 전일성적: 1.0, 출주횟수: 22, 모터_평균착순점: 6.06, 모터_연대율2: 25.0, 모터_연대율3: 43.1, 보트_평균착순점: 4.11, 보트_연대율: 52.9, 중량부과여부: 1, 부과된중량: 2.0, PCA_코스성적_1: -4.84, PCA_코스성적_2: 17.20, 코스_성적: 25.15, 최근3경기_평균: 2.67 선수2: 등급: B2, 성별: 1, 나이: 20-30, 최근6회차_평균착순점: 6.43, 최근6회차_평균득점: 6.81, 최근6회차_승률: 0.0, 최근6회차_연대율2: 12.5, 최근6회차_연대율3: 18.8, 최근6회차_평균ST: 0.24, 연간성적_평균착순점: 7.55, 연간성적_연대율: 7.7, 평균사고점: 0.31, 전일성적: 1.0, 출주횟수: 29, 모터_평균착순점: 5.63, 모터_연대율2: 34.7, 모터_연대율3: 45.9, 보트_평균착순점: 6.58, 보트_연대율: 23.9, 중량부과여부: 1, 부과된중량: 10.0, PCA_코스성적_1: -45.46, PCA_코스성적_2: -1.69, 코스_성적: 6.71, 최근3경기_평균: 2.33 선수3: 등급: B1, 성별: 0, 나이: 50+, 최근6회차_평균착순점: 5.25, 최근6회차_평균득점: 5.25, 최근6회차_승률: 6.3, 최근6회차_연대율2: 25.0, 최근6회차_연대율3: 50.0, 최근6회차_평균ST: 0.21, 연간성적_평균착순점: 5.84, 연간성적_연대율: 24.1, 평균사고점: 0.1, 전일성적: 1.0, 출주횟수: 29, 모터_평균착순점: 6.35, 모터_연대율2: 24.7, 모터_연대율3: 38.4, 보트_평균착순점: 5.19, 보트_연대율: 36.6, 중량부과여부: 0, 부과된중량: 0.0, PCA_코스성적_1: -26.09, PCA_코스성적_2: 30.87, 코스_성적: 46.42, 최근3경기_평균: 1.33 선수4: 등급: A2, 성별: 1, 나이: 40-50, 최근6회차_평균착순점: 4.77, 최근6회차_평균득점: 4.79, 최근6회차_승률: 14.3, 최근6회차_연대율2: 35.7, 최근6회차_연대율3: 50.0, 최근6회차_평균ST: 0.24, 연간성적_평균착순점: 4.61, 연간성적_연대율: 42.4, 평균사고점: 0.11, 전일성적: 1.0, 출주횟수: 32, 모터_평균착순점: 6.67, 모터_연대율2: 14.3, 모터_연대율3: 32.9, 보트_평균착순점: 5.04, 보트_연대율: 39.0, 중량부과여부: 0, 부과된중량: 0.0, PCA_코스성적_1: 20.19, PCA_코스성적_2: -12.92, 코스_성적: 18.35, 최근3경기_평균: 0.67 선수5: 등급: B1, 성별: 0, 나이: 40-50, 최근6회차_평균착순점: 5.77, 최근6회차_평균득점: 6.21, 최근6회차_승률: 0.0, 최근6회차_연대율2: 21.4, 최근6회차_연대율3: 50.0, 최근6회차_평균ST: 0.23, 연간성적_평균착순점: 5.71, 연간성적_연대율: 32.0, 평균사고점: 0.42, 전일성적: 1.0, 출주횟수: 25, 모터_평균착순점: 5.24, 모터_연대율2: 34.0, 모터_연대율3: 57.4, 보트_평균착순점: 6.19, 보트_연대율: 27.2, 중량부과여부: 0, 부과된중량: 0.0, PCA_코스성적_1: 4.84, PCA_코스성적_2: 2.71, 코스_성적: 3.66, 최근3경기_평균: 3.33 선수6: 등급: A2, 성별: 0, 나이: 40-50, 최근6회차_평균착순점: 3.88, 최근6회차_평균득점: 4.12, 최근6회차_승률: 35.3, 최근6회차_연대율2: 41.2, 최근6회차_연대율3: 52.9, 최근6회차_평균ST: 0.16, 연간성적_평균착순점: 4.55, 연간성적_연대율: 44.1, 평균사고점: 0.26, 전일성적: 1.0, 출주횟수: 33, 모터_평균착순점: 4.78, 모터_연대율2: 38.8, 모터_연대율3: 60.0, 보트_평균착순점: 5.39, 보트_연대율: 32.5, 중량부과여부: 0, 부과된중량: 0.0, PCA_코스성적_1: 25.38, PCA_코스성적_2: 1.41, 코스_성적: 45.13, 최근3경기_평균: 1.67'},\n",
       " {'role': 'assistant', 'content': '우승한 선수의 번호는 3, 6번 입니다.'}]"
      ]
     },
     "execution_count": 103,
     "metadata": {},
     "output_type": "execute_result"
    }
   ],
   "source": [
    "jsonl_data_grouped[0]['messages']"
   ]
  },
  {
   "cell_type": "code",
   "execution_count": 104,
   "id": "35c5369f-cbac-40a2-8fda-f4a36a0edd31",
   "metadata": {},
   "outputs": [],
   "source": [
    "output_file_path_grouped_corrected = 'data/train_double_smaller.jsonl'\n",
    "with open(output_file_path_grouped_corrected, 'w', encoding='utf-8') as f:\n",
    "    for entry in jsonl_data_grouped:\n",
    "        json.dump(entry, f, ensure_ascii=False)\n",
    "        f.write('\\n')"
   ]
  },
  {
   "cell_type": "code",
   "execution_count": 105,
   "id": "9015c0fd-20d0-41c9-989c-3cf598fbf4f2",
   "metadata": {},
   "outputs": [],
   "source": [
    "data_val = X_val\n",
    "\n",
    "grouped_data_val = [data_val.iloc[i:i+6] for i in range(6000, len(data_val), 6)]\n",
    "\n",
    "jsonl_data_grouped_val = [create_jsonl_format_grouped(group) for group in grouped_data_val if len(group) == 6]\n",
    "\n",
    "output_file_path_grouped_corrected = 'data/val_double_smaller.jsonl'\n",
    "with open(output_file_path_grouped_corrected, 'w', encoding='utf-8') as f:\n",
    "    for entry in jsonl_data_grouped_val:\n",
    "        json.dump(entry, f, ensure_ascii=False)\n",
    "        f.write('\\n')"
   ]
  },
  {
   "cell_type": "code",
   "execution_count": 106,
   "id": "bb18b3f1-dd35-4aaa-8a7e-0f988696d010",
   "metadata": {},
   "outputs": [],
   "source": [
    "def create_jsonl_format_grouped_test(group):\n",
    "    user_input = \" \".join([\n",
    "        f\"선수{i+1}: 등급: {row['등급']}, 성별: {row['성별']}, 나이: {row['나이']}, \"\n",
    "        f\"최근6회차_평균착순점: {row['최근6회차_평균착순점']:.2f}, 최근6회차_평균득점: {row['최근6회차_평균득점']:.2f}, \"\n",
    "        f\"최근6회차_승률: {row['최근6회차_승률']}, 최근6회차_연대율2: {row['최근6회차_연대율2']}, \"\n",
    "        f\"최근6회차_연대율3: {row['최근6회차_연대율3']}, 최근6회차_평균ST: {row['최근6회차_평균ST']}, \"\n",
    "        f\"연간성적_평균착순점: {row['연간성적_평균착순점']}, 연간성적_연대율: {row['연간성적_연대율']}, \"\n",
    "        f\"평균사고점: {row['평균사고점']}, 전일성적: {row['전일성적']}, 출주횟수: {row['출주횟수']}, \"\n",
    "        f\"모터_평균착순점: {row['모터_평균착순점']:.2f}, 모터_연대율2: {row['모터_연대율2']}, \"\n",
    "        f\"모터_연대율3: {row['모터_연대율3']}, 보트_평균착순점: {row['보트_평균착순점']:.2f}, \"\n",
    "        f\"보트_연대율: {row['보트_연대율']}, 중량부과여부: {row['중량부과여부']}, 부과된중량: {row['부과된중량']}, \"\n",
    "        f\"PCA_코스성적_1: {row['PCA_코스성적_1']:.2f}, PCA_코스성적_2: {row['PCA_코스성적_2']:.2f}, \"\n",
    "        f\"코스_성적: {row['코스_성적']:.2f}, 최근3경기_평균: {row['최근3경기_평균']:.2f}\"\n",
    "        for i, (_, row) in enumerate(group.iterrows())\n",
    "    ])\n",
    "    \n",
    "    jsonl_entry = {\n",
    "        \"messages\": [\n",
    "            {\"role\": \"system\", \"content\": \"당신은 유능한 순위예측 전문가입니다.\"},\n",
    "            {\"role\": \"user\", \"content\": user_input.strip()},\n",
    "        ]\n",
    "    }\n",
    "    return jsonl_entry"
   ]
  },
  {
   "cell_type": "code",
   "execution_count": 107,
   "id": "aaed89ae-f844-433e-8cd9-7bf7c49bcfca",
   "metadata": {},
   "outputs": [],
   "source": [
    "grouped_data_test = [X_test.iloc[i:i+6] for i in range(0, len(X_test), 6)]"
   ]
  },
  {
   "cell_type": "code",
   "execution_count": 108,
   "id": "4ea7b883-9598-4c37-8f40-9b020e36863e",
   "metadata": {},
   "outputs": [],
   "source": [
    "jsonl_data_grouped_test = [create_jsonl_format_grouped_test(group) for group in grouped_data_test if len(group) == 6]"
   ]
  },
  {
   "cell_type": "code",
   "execution_count": 109,
   "id": "75b8ff6b-4685-4f78-b64b-2d0e45f5012b",
   "metadata": {},
   "outputs": [
    {
     "data": {
      "text/plain": [
       "[{'role': 'system', 'content': '당신은 유능한 순위예측 전문가입니다.'},\n",
       " {'role': 'user',\n",
       "  'content': '선수1: 등급: B1, 성별: 0, 나이: 30-40, 최근6회차_평균착순점: 4.35, 최근6회차_평균득점: 5.24, 최근6회차_승률: 17.6, 최근6회차_연대율2: 35.3, 최근6회차_연대율3: 64.7, 최근6회차_평균ST: 0.2, 연간성적_평균착순점: 10.67, 연간성적_연대율: 0.0, 평균사고점: 0.0, 전일성적: 1.0, 출주횟수: 30, 모터_평균착순점: 5.69, 모터_연대율2: 29.7, 모터_연대율3: 47.9, 보트_평균착순점: 5.17, 보트_연대율: 39.1, 중량부과여부: 0, 부과된중량: 0.0, PCA_코스성적_1: -5.40, PCA_코스성적_2: -27.50, 코스_성적: 64.41, 최근3경기_평균: 2.67 선수2: 등급: B1, 성별: 0, 나이: 50+, 최근6회차_평균착순점: 4.77, 최근6회차_평균득점: 4.89, 최근6회차_승률: 14.3, 최근6회차_연대율2: 35.7, 최근6회차_연대율3: 42.9, 최근6회차_평균ST: 0.33, 연간성적_평균착순점: 10.67, 연간성적_연대율: 0.0, 평균사고점: 0.0, 전일성적: 1.0, 출주횟수: 35, 모터_평균착순점: 5.18, 모터_연대율2: 38.7, 모터_연대율3: 54.0, 보트_평균착순점: 6.40, 보트_연대율: 22.6, 중량부과여부: 1, 부과된중량: 1.0, PCA_코스성적_1: -4.34, PCA_코스성적_2: -5.20, 코스_성적: 48.61, 최근3경기_평균: 1.33 선수3: 등급: B1, 성별: 0, 나이: 40-50, 최근6회차_평균착순점: 5.85, 최근6회차_평균득점: 5.95, 최근6회차_승률: 5.3, 최근6회차_연대율2: 10.5, 최근6회차_연대율3: 36.8, 최근6회차_평균ST: 0.2, 연간성적_평균착순점: 10.67, 연간성적_연대율: 0.0, 평균사고점: 0.0, 전일성적: 1.0, 출주횟수: 43, 모터_평균착순점: 5.32, 모터_연대율2: 35.7, 모터_연대율3: 52.3, 보트_평균착순점: 5.28, 보트_연대율: 37.3, 중량부과여부: 0, 부과된중량: 0.0, PCA_코스성적_1: -5.56, PCA_코스성적_2: -10.33, 코스_성적: 18.85, 최근3경기_평균: 2.67 선수4: 등급: B1, 성별: 0, 나이: 50+, 최근6회차_평균착순점: 4.87, 최근6회차_평균득점: 5.12, 최근6회차_승률: 25.0, 최근6회차_연대율2: 31.3, 최근6회차_연대율3: 43.8, 최근6회차_평균ST: 0.24, 연간성적_평균착순점: 10.67, 연간성적_연대율: 0.0, 평균사고점: 0.0, 전일성적: 1.0, 출주횟수: 34, 모터_평균착순점: 5.26, 모터_연대율2: 36.2, 모터_연대율3: 52.8, 보트_평균착순점: 5.07, 보트_연대율: 37.8, 중량부과여부: 0, 부과된중량: 0.0, PCA_코스성적_1: -20.65, PCA_코스성적_2: -29.28, 코스_성적: 18.35, 최근3경기_평균: 1.67 선수5: 등급: A1, 성별: 0, 나이: 40-50, 최근6회차_평균착순점: 3.06, 최근6회차_평균득점: 3.11, 최근6회차_승률: 22.2, 최근6회차_연대율2: 44.4, 최근6회차_연대율3: 77.8, 최근6회차_평균ST: 0.26, 연간성적_평균착순점: 10.67, 연간성적_연대율: 0.0, 평균사고점: 0.0, 전일성적: 1.0, 출주횟수: 43, 모터_평균착순점: 5.82, 모터_연대율2: 31.3, 모터_연대율3: 44.8, 보트_평균착순점: 5.53, 보트_연대율: 33.9, 중량부과여부: 0, 부과된중량: 0.0, PCA_코스성적_1: 43.09, PCA_코스성적_2: -6.21, 코스_성적: 22.20, 최근3경기_평균: 3.33 선수6: 등급: A1, 성별: 0, 나이: 40-50, 최근6회차_평균착순점: 4.06, 최근6회차_평균득점: 4.41, 최근6회차_승률: 29.4, 최근6회차_연대율2: 52.9, 최근6회차_연대율3: 64.7, 최근6회차_평균ST: 0.21, 연간성적_평균착순점: 10.67, 연간성적_연대율: 0.0, 평균사고점: 0.0, 전일성적: 1.0, 출주횟수: 47, 모터_평균착순점: 4.82, 모터_연대율2: 38.8, 모터_연대율3: 59.9, 보트_평균착순점: 3.96, 보트_연대율: 49.5, 중량부과여부: 0, 부과된중량: 0.0, PCA_코스성적_1: 57.68, PCA_코스성적_2: 0.60, 코스_성적: 11.59, 최근3경기_평균: 3.00'}]"
      ]
     },
     "execution_count": 109,
     "metadata": {},
     "output_type": "execute_result"
    }
   ],
   "source": [
    "jsonl_data_grouped_test[0]['messages']"
   ]
  },
  {
   "cell_type": "code",
   "execution_count": 110,
   "id": "82165423-277a-4274-858a-6403ff44de77",
   "metadata": {},
   "outputs": [],
   "source": [
    "output_file_path_grouped = 'data/test_double.jsonl'\n",
    "with open(output_file_path_grouped, 'w', encoding='utf-8') as f:\n",
    "    for entry in jsonl_data_grouped_test:\n",
    "        json.dump(entry, f, ensure_ascii=False)\n",
    "        f.write('\\n')"
   ]
  },
  {
   "cell_type": "markdown",
   "id": "9b229b94-d727-4096-8bf6-b9df1530ba66",
   "metadata": {},
   "source": [
    "### batch6으로 하기 위한 프롬프트"
   ]
  },
  {
   "cell_type": "code",
   "execution_count": 111,
   "id": "8195234c-cd90-4fb3-88bc-cfc96a4df359",
   "metadata": {},
   "outputs": [],
   "source": [
    "def create_jsonl_format_single_player(player):\n",
    "    # Constructing the user input prompt with relevant player information for a single player\n",
    "    user_input = (\n",
    "        f\"선수: 등급: {player['등급']}, 성별: {player['성별']}, 나이: {player['나이']}, \"\n",
    "        f\"최근6회차_평균착순점: {player['최근6회차_평균착순점']:.2f}, 최근6회차_평균득점: {player['최근6회차_평균득점']:.2f}, \"\n",
    "        f\"최근6회차_승률: {player['최근6회차_승률']}, 최근6회차_연대율2: {player['최근6회차_연대율2']}, \"\n",
    "        f\"최근6회차_연대율3: {player['최근6회차_연대율3']}, 최근6회차_평균ST: {player['최근6회차_평균ST']}, \"\n",
    "        f\"연간성적_평균착순점: {player['연간성적_평균착순점']}, 연간성적_연대율: {player['연간성적_연대율']}, \"\n",
    "        f\"평균사고점: {player['평균사고점']}, 전일성적: {player['전일성적']}, 출주횟수: {player['출주횟수']}, \"\n",
    "        f\"모터_평균착순점: {player['모터_평균착순점']:.2f}, 모터_연대율2: {player['모터_연대율2']}, \"\n",
    "        f\"모터_연대율3: {player['모터_연대율3']}, 보트_평균착순점: {player['보트_평균착순점']:.2f}, \"\n",
    "        f\"보트_연대율: {player['보트_연대율']}, 중량부과여부: {player['중량부과여부']}, 부과된중량: {player['부과된중량']}, \"\n",
    "        f\"PCA_코스성적_1: {player['PCA_코스성적_1']:.2f}, PCA_코스성적_2: {player['PCA_코스성적_2']:.2f}, \"\n",
    "        f\"코스_성적: {player['코스_성적']:.2f}, 최근3경기_평균: {player['최근3경기_평균']:.2f}\"\n",
    "    )\n",
    "\n",
    "    # Determining if the player won or lost based on 'result'\n",
    "    if player['result'] == 1:\n",
    "        assistant_output = \"우승\"\n",
    "    else:\n",
    "        assistant_output = \"실패\"\n",
    "    \n",
    "    # Creating the jsonl entry\n",
    "    jsonl_entry = {\n",
    "        \"messages\": [\n",
    "            {\"role\": \"system\", \"content\": \"당신은 유능한 순위예측 전문가입니다.\"},\n",
    "            {\"role\": \"user\", \"content\": user_input.strip()},\n",
    "            {\"role\": \"assistant\", \"content\": assistant_output.strip()}\n",
    "        ]\n",
    "    }\n",
    "    return jsonl_entry\n"
   ]
  },
  {
   "cell_type": "code",
   "execution_count": 122,
   "id": "ce719f6a-d0ec-417f-8af4-6db41effc45a",
   "metadata": {},
   "outputs": [],
   "source": [
    "jsonl_data_single_player_val_1 = [create_jsonl_format_single_player(X_train.iloc[i]) for i in range(66000, len(X_train))]\n",
    "\n",
    "output_file_path_single_player_corrected = 'data/train_double_smaller_v2.jsonl'\n",
    "\n",
    "# Writing the JSONL entries to the output file\n",
    "with open(output_file_path_single_player_corrected, 'w', encoding='utf-8') as f:\n",
    "    for entry in jsonl_data_single_player_val:\n",
    "        json.dump(entry, f, ensure_ascii=False)\n",
    "        f.write('\\n')"
   ]
  },
  {
   "cell_type": "code",
   "execution_count": 121,
   "id": "a9393d65-e8f1-49c0-8736-4ad12f980836",
   "metadata": {},
   "outputs": [],
   "source": [
    "jsonl_data_single_player_val_2 = [create_jsonl_format_single_player(X_val.iloc[i]) for i in range(6000, len(X_val))]\n",
    "\n",
    "output_file_path_single_player_corrected = 'data/val_double_smaller_v2.jsonl'\n",
    "\n",
    "# Writing the JSONL entries to the output file\n",
    "with open(output_file_path_single_player_corrected, 'w', encoding='utf-8') as f:\n",
    "    for entry in jsonl_data_single_player_val:\n",
    "        json.dump(entry, f, ensure_ascii=False)\n",
    "        f.write('\\n')"
   ]
  },
  {
   "cell_type": "code",
   "execution_count": 120,
   "id": "42a3a10f-fb37-4ef4-90d4-7e6094f216b5",
   "metadata": {},
   "outputs": [
    {
     "ename": "IndexError",
     "evalue": "single positional indexer is out-of-bounds",
     "output_type": "error",
     "traceback": [
      "\u001b[1;31m---------------------------------------------------------------------------\u001b[0m",
      "\u001b[1;31mIndexError\u001b[0m                                Traceback (most recent call last)",
      "\u001b[1;32m~\\AppData\\Local\\Temp\\ipykernel_18576\\1645444677.py\u001b[0m in \u001b[0;36m<module>\u001b[1;34m\u001b[0m\n\u001b[1;32m----> 1\u001b[1;33m \u001b[0mjsonl_data_single_player_val\u001b[0m \u001b[1;33m=\u001b[0m \u001b[1;33m[\u001b[0m\u001b[0mcreate_jsonl_format_single_player\u001b[0m\u001b[1;33m(\u001b[0m\u001b[0mX_test\u001b[0m\u001b[1;33m.\u001b[0m\u001b[0miloc\u001b[0m\u001b[1;33m[\u001b[0m\u001b[0mi\u001b[0m\u001b[1;33m]\u001b[0m\u001b[1;33m)\u001b[0m \u001b[1;32mfor\u001b[0m \u001b[0mi\u001b[0m \u001b[1;32min\u001b[0m \u001b[0mrange\u001b[0m\u001b[1;33m(\u001b[0m\u001b[1;36m6000\u001b[0m\u001b[1;33m,\u001b[0m \u001b[0mlen\u001b[0m\u001b[1;33m(\u001b[0m\u001b[0mdata_val\u001b[0m\u001b[1;33m)\u001b[0m\u001b[1;33m)\u001b[0m\u001b[1;33m]\u001b[0m\u001b[1;33m\u001b[0m\u001b[1;33m\u001b[0m\u001b[0m\n\u001b[0m\u001b[0;32m      2\u001b[0m \u001b[1;33m\u001b[0m\u001b[0m\n\u001b[0;32m      3\u001b[0m \u001b[0moutput_file_path_single_player_corrected\u001b[0m \u001b[1;33m=\u001b[0m \u001b[1;34m'data/test_double_smaller_v2.jsonl'\u001b[0m\u001b[1;33m\u001b[0m\u001b[1;33m\u001b[0m\u001b[0m\n\u001b[0;32m      4\u001b[0m \u001b[1;33m\u001b[0m\u001b[0m\n\u001b[0;32m      5\u001b[0m \u001b[1;31m# Writing the JSONL entries to the output file\u001b[0m\u001b[1;33m\u001b[0m\u001b[1;33m\u001b[0m\u001b[0m\n",
      "\u001b[1;32m~\\AppData\\Local\\Temp\\ipykernel_18576\\1645444677.py\u001b[0m in \u001b[0;36m<listcomp>\u001b[1;34m(.0)\u001b[0m\n\u001b[1;32m----> 1\u001b[1;33m \u001b[0mjsonl_data_single_player_val\u001b[0m \u001b[1;33m=\u001b[0m \u001b[1;33m[\u001b[0m\u001b[0mcreate_jsonl_format_single_player\u001b[0m\u001b[1;33m(\u001b[0m\u001b[0mX_test\u001b[0m\u001b[1;33m.\u001b[0m\u001b[0miloc\u001b[0m\u001b[1;33m[\u001b[0m\u001b[0mi\u001b[0m\u001b[1;33m]\u001b[0m\u001b[1;33m)\u001b[0m \u001b[1;32mfor\u001b[0m \u001b[0mi\u001b[0m \u001b[1;32min\u001b[0m \u001b[0mrange\u001b[0m\u001b[1;33m(\u001b[0m\u001b[1;36m6000\u001b[0m\u001b[1;33m,\u001b[0m \u001b[0mlen\u001b[0m\u001b[1;33m(\u001b[0m\u001b[0mdata_val\u001b[0m\u001b[1;33m)\u001b[0m\u001b[1;33m)\u001b[0m\u001b[1;33m]\u001b[0m\u001b[1;33m\u001b[0m\u001b[1;33m\u001b[0m\u001b[0m\n\u001b[0m\u001b[0;32m      2\u001b[0m \u001b[1;33m\u001b[0m\u001b[0m\n\u001b[0;32m      3\u001b[0m \u001b[0moutput_file_path_single_player_corrected\u001b[0m \u001b[1;33m=\u001b[0m \u001b[1;34m'data/test_double_smaller_v2.jsonl'\u001b[0m\u001b[1;33m\u001b[0m\u001b[1;33m\u001b[0m\u001b[0m\n\u001b[0;32m      4\u001b[0m \u001b[1;33m\u001b[0m\u001b[0m\n\u001b[0;32m      5\u001b[0m \u001b[1;31m# Writing the JSONL entries to the output file\u001b[0m\u001b[1;33m\u001b[0m\u001b[1;33m\u001b[0m\u001b[0m\n",
      "\u001b[1;32mC:\\Anaconda\\lib\\site-packages\\pandas\\core\\indexing.py\u001b[0m in \u001b[0;36m__getitem__\u001b[1;34m(self, key)\u001b[0m\n\u001b[0;32m   1101\u001b[0m \u001b[1;33m\u001b[0m\u001b[0m\n\u001b[0;32m   1102\u001b[0m             \u001b[0mmaybe_callable\u001b[0m \u001b[1;33m=\u001b[0m \u001b[0mcom\u001b[0m\u001b[1;33m.\u001b[0m\u001b[0mapply_if_callable\u001b[0m\u001b[1;33m(\u001b[0m\u001b[0mkey\u001b[0m\u001b[1;33m,\u001b[0m \u001b[0mself\u001b[0m\u001b[1;33m.\u001b[0m\u001b[0mobj\u001b[0m\u001b[1;33m)\u001b[0m\u001b[1;33m\u001b[0m\u001b[1;33m\u001b[0m\u001b[0m\n\u001b[1;32m-> 1103\u001b[1;33m             \u001b[1;32mreturn\u001b[0m \u001b[0mself\u001b[0m\u001b[1;33m.\u001b[0m\u001b[0m_getitem_axis\u001b[0m\u001b[1;33m(\u001b[0m\u001b[0mmaybe_callable\u001b[0m\u001b[1;33m,\u001b[0m \u001b[0maxis\u001b[0m\u001b[1;33m=\u001b[0m\u001b[0maxis\u001b[0m\u001b[1;33m)\u001b[0m\u001b[1;33m\u001b[0m\u001b[1;33m\u001b[0m\u001b[0m\n\u001b[0m\u001b[0;32m   1104\u001b[0m \u001b[1;33m\u001b[0m\u001b[0m\n\u001b[0;32m   1105\u001b[0m     \u001b[1;32mdef\u001b[0m \u001b[0m_is_scalar_access\u001b[0m\u001b[1;33m(\u001b[0m\u001b[0mself\u001b[0m\u001b[1;33m,\u001b[0m \u001b[0mkey\u001b[0m\u001b[1;33m:\u001b[0m \u001b[0mtuple\u001b[0m\u001b[1;33m)\u001b[0m\u001b[1;33m:\u001b[0m\u001b[1;33m\u001b[0m\u001b[1;33m\u001b[0m\u001b[0m\n",
      "\u001b[1;32mC:\\Anaconda\\lib\\site-packages\\pandas\\core\\indexing.py\u001b[0m in \u001b[0;36m_getitem_axis\u001b[1;34m(self, key, axis)\u001b[0m\n\u001b[0;32m   1654\u001b[0m \u001b[1;33m\u001b[0m\u001b[0m\n\u001b[0;32m   1655\u001b[0m             \u001b[1;31m# validate the location\u001b[0m\u001b[1;33m\u001b[0m\u001b[1;33m\u001b[0m\u001b[0m\n\u001b[1;32m-> 1656\u001b[1;33m             \u001b[0mself\u001b[0m\u001b[1;33m.\u001b[0m\u001b[0m_validate_integer\u001b[0m\u001b[1;33m(\u001b[0m\u001b[0mkey\u001b[0m\u001b[1;33m,\u001b[0m \u001b[0maxis\u001b[0m\u001b[1;33m)\u001b[0m\u001b[1;33m\u001b[0m\u001b[1;33m\u001b[0m\u001b[0m\n\u001b[0m\u001b[0;32m   1657\u001b[0m \u001b[1;33m\u001b[0m\u001b[0m\n\u001b[0;32m   1658\u001b[0m             \u001b[1;32mreturn\u001b[0m \u001b[0mself\u001b[0m\u001b[1;33m.\u001b[0m\u001b[0mobj\u001b[0m\u001b[1;33m.\u001b[0m\u001b[0m_ixs\u001b[0m\u001b[1;33m(\u001b[0m\u001b[0mkey\u001b[0m\u001b[1;33m,\u001b[0m \u001b[0maxis\u001b[0m\u001b[1;33m=\u001b[0m\u001b[0maxis\u001b[0m\u001b[1;33m)\u001b[0m\u001b[1;33m\u001b[0m\u001b[1;33m\u001b[0m\u001b[0m\n",
      "\u001b[1;32mC:\\Anaconda\\lib\\site-packages\\pandas\\core\\indexing.py\u001b[0m in \u001b[0;36m_validate_integer\u001b[1;34m(self, key, axis)\u001b[0m\n\u001b[0;32m   1587\u001b[0m         \u001b[0mlen_axis\u001b[0m \u001b[1;33m=\u001b[0m \u001b[0mlen\u001b[0m\u001b[1;33m(\u001b[0m\u001b[0mself\u001b[0m\u001b[1;33m.\u001b[0m\u001b[0mobj\u001b[0m\u001b[1;33m.\u001b[0m\u001b[0m_get_axis\u001b[0m\u001b[1;33m(\u001b[0m\u001b[0maxis\u001b[0m\u001b[1;33m)\u001b[0m\u001b[1;33m)\u001b[0m\u001b[1;33m\u001b[0m\u001b[1;33m\u001b[0m\u001b[0m\n\u001b[0;32m   1588\u001b[0m         \u001b[1;32mif\u001b[0m \u001b[0mkey\u001b[0m \u001b[1;33m>=\u001b[0m \u001b[0mlen_axis\u001b[0m \u001b[1;32mor\u001b[0m \u001b[0mkey\u001b[0m \u001b[1;33m<\u001b[0m \u001b[1;33m-\u001b[0m\u001b[0mlen_axis\u001b[0m\u001b[1;33m:\u001b[0m\u001b[1;33m\u001b[0m\u001b[1;33m\u001b[0m\u001b[0m\n\u001b[1;32m-> 1589\u001b[1;33m             \u001b[1;32mraise\u001b[0m \u001b[0mIndexError\u001b[0m\u001b[1;33m(\u001b[0m\u001b[1;34m\"single positional indexer is out-of-bounds\"\u001b[0m\u001b[1;33m)\u001b[0m\u001b[1;33m\u001b[0m\u001b[1;33m\u001b[0m\u001b[0m\n\u001b[0m\u001b[0;32m   1590\u001b[0m \u001b[1;33m\u001b[0m\u001b[0m\n\u001b[0;32m   1591\u001b[0m     \u001b[1;31m# -------------------------------------------------------------------\u001b[0m\u001b[1;33m\u001b[0m\u001b[1;33m\u001b[0m\u001b[0m\n",
      "\u001b[1;31mIndexError\u001b[0m: single positional indexer is out-of-bounds"
     ]
    }
   ],
   "source": [
    "jsonl_data_single_player_val_3 = [create_jsonl_format_single_player(X_test.iloc[i]) for i in range(len(X_test))]\n",
    "\n",
    "output_file_path_single_player_corrected = 'data/test_double_smaller_v2.jsonl'\n",
    "\n",
    "# Writing the JSONL entries to the output file\n",
    "with open(output_file_path_single_player_corrected, 'w', encoding='utf-8') as f:\n",
    "    for entry in jsonl_data_single_player_val:\n",
    "        json.dump(entry, f, ensure_ascii=False)\n",
    "        f.write('\\n')"
   ]
  },
  {
   "cell_type": "code",
   "execution_count": null,
   "id": "d22d4b13-a25f-4e8b-b215-62e100989007",
   "metadata": {},
   "outputs": [],
   "source": []
  }
 ],
 "metadata": {
  "kernelspec": {
   "display_name": "Python 3 (ipykernel)",
   "language": "python",
   "name": "python3"
  },
  "language_info": {
   "codemirror_mode": {
    "name": "ipython",
    "version": 3
   },
   "file_extension": ".py",
   "mimetype": "text/x-python",
   "name": "python",
   "nbconvert_exporter": "python",
   "pygments_lexer": "ipython3",
   "version": "3.9.13"
  }
 },
 "nbformat": 4,
 "nbformat_minor": 5
}
