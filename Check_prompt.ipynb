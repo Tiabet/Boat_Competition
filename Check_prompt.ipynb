{
 "cells": [
  {
   "cell_type": "code",
   "execution_count": 2,
   "id": "9475f4f3-d471-4876-ad81-8cf0146b147a",
   "metadata": {},
   "outputs": [],
   "source": [
    "import json\n",
    "import tiktoken # for token counting\n",
    "import numpy as np\n",
    "from collections import defaultdict"
   ]
  },
  {
   "cell_type": "code",
   "execution_count": 4,
   "id": "1a0d4536-a390-477f-8f81-4316b4345238",
   "metadata": {},
   "outputs": [
    {
     "name": "stdout",
     "output_type": "stream",
     "text": [
      "Num examples: 2113\n",
      "First example:\n",
      "{'role': 'system', 'content': '당신은 유능한 순위예측 전문가입니다.'}\n",
      "{'role': 'user', 'content': '선수1: 등급: A1, 성별: 남, 나이: 44.0, 체중: 56.0, 최근6회차_평균착순점: 5.85, 최근6회차_평균득점: 3.38, 최근6회차_승률: 15.4, 최근6회차_연대율2: 38.5, 최근6회차_연대율3: 76.9, 최근6회차_평균ST: 0.17, 연간성적_평균착순점: 6.83, 연간성적_연대율: 63.0, FL: F2L0, 평균사고점: 3.1, 출주횟수: 17.0, 모터_평균착순점: 5.99, 모터_연대율2: 40.8, 모터_연대율3: 59.2, 보트_평균착순점: 5.42, 보트_연대율: 36.7, 1코스_성적: 62.87, 2코스_성적: 47.91, 3코스_성적: 32.69, 4코스_성적: 31.80, 5코스_성적: 36.78, 6코스_성적: 19.06, 최근1경기_착순: -1, 최근2경기_착순: 3, 최근3경기_착순: 3, 최근4경기_착순: -1, 최근5경기_착순: 2, 최근6경기_착순: 1, 최근7경기_착순: 2, 최근8경기_착순: 3 선수2: 등급: A1, 성별: 남, 나이: 49.0, 체중: 57.0, 최근6회차_평균착순점: 4.61, 최근6회차_평균득점: 4.56, 최근6회차_승률: 5.6, 최근6회차_연대율2: 22.2, 최근6회차_연대율3: 44.4, 최근6회차_평균ST: 0.26, 연간성적_평균착순점: 5.79, 연간성적_연대율: 45.7, FL: F0L0, 평균사고점: 0.03, 출주횟수: 36.0, 모터_평균착순점: 5.73, 모터_연대율2: 40.3, 모터_연대율3: 56.1, 보트_평균착순점: 6.08, 보트_연대율: 45.9, 1코스_성적: 56.46, 2코스_성적: 56.58, 3코스_성적: 66.32, 4코스_성적: 32.72, 5코스_성적: 2.58, 6코스_성적: 14.32, 최근1경기_착순: -1, 최근2경기_착순: 3, 최근3경기_착순: 3, 최근4경기_착순: -1, 최근5경기_착순: -1, 최근6경기_착순: -1, 최근7경기_착순: -1, 최근8경기_착순: -1 선수3: 등급: B2, 성별: 남, 나이: 37.0, 체중: 54.0, 최근6회차_평균착순점: 3.0, 최근6회차_평균득점: 2.65, 최근6회차_승률: 0.0, 최근6회차_연대율2: 11.8, 최근6회차_연대율3: 23.5, 최근6회차_평균ST: 0.34, 연간성적_평균착순점: 3.14, 연간성적_연대율: 8.5, FL: F0L0, 평균사고점: 0.32, 출주횟수: 28.0, 모터_평균착순점: 5.89, 모터_연대율2: 42.0, 모터_연대율3: 58.0, 보트_평균착순점: 4.8, 보트_연대율: 27.1, 1코스_성적: 25.25, 2코스_성적: 4.93, 3코스_성적: 16.37, 4코스_성적: 5.44, 5코스_성적: 3.45, 6코스_성적: 2.05, 최근1경기_착순: -1, 최근2경기_착순: -1, 최근3경기_착순: -1, 최근4경기_착순: 3, 최근5경기_착순: -1, 최근6경기_착순: -1, 최근7경기_착순: -1, 최근8경기_착순: -1 선수4: 등급: B1, 성별: 남, 나이: 38.0, 체중: 56.0, 최근6회차_평균착순점: 5.18, 최근6회차_평균득점: 5.12, 최근6회차_승률: 11.8, 최근6회차_연대율2: 35.3, 최근6회차_연대율3: 52.9, 최근6회차_평균ST: 0.19, 연간성적_평균착순점: 4.84, 연간성적_연대율: 23.4, FL: F0L0, 평균사고점: 0.03, 출주횟수: 34.0, 모터_평균착순점: 5.46, 모터_연대율2: 36.1, 모터_연대율3: 53.5, 보트_평균착순점: 5.75, 보트_연대율: 44.1, 1코스_성적: 35.15, 2코스_성적: 34.21, 3코스_성적: 16.37, 4코스_성적: 28.37, 5코스_성적: 3.45, 6코스_성적: 2.05, 최근1경기_착순: -1, 최근2경기_착순: -1, 최근3경기_착순: 1, 최근4경기_착순: -1, 최근5경기_착순: 2, 최근6경기_착순: -1, 최근7경기_착순: 1, 최근8경기_착순: -1 선수5: 등급: A2, 성별: 남, 나이: 42.0, 체중: 54.0, 최근6회차_평균착순점: 5.53, 최근6회차_평균득점: 5.53, 최근6회차_승률: 17.6, 최근6회차_연대율2: 35.3, 최근6회차_연대율3: 52.9, 최근6회차_평균ST: 0.22, 연간성적_평균착순점: 5.18, 연간성적_연대율: 30.9, FL: F0L0, 평균사고점: 0.03, 출주횟수: 35.0, 모터_평균착순점: 6.35, 모터_연대율2: 45.5, 모터_연대율3: 68.2, 보트_평균착순점: 4.61, 보트_연대율: 24.1, 1코스_성적: 39.09, 2코스_성적: 39.91, 3코스_성적: 28.82, 4코스_성적: 12.72, 5코스_성적: 3.45, 6코스_성적: 26.77, 최근1경기_착순: -1, 최근2경기_착순: -1, 최근3경기_착순: -1, 최근4경기_착순: 3, 최근5경기_착순: 1, 최근6경기_착순: 3, 최근7경기_착순: -1, 최근8경기_착순: 2 선수6: 등급: B1, 성별: 남, 나이: 43.0, 체중: 58.0, 최근6회차_평균착순점: 4.83, 최근6회차_평균득점: 4.5, 최근6회차_승률: 5.6, 최근6회차_연대율2: 22.2, 최근6회차_연대율3: 50.0, 최근6회차_평균ST: 0.29, 연간성적_평균착순점: 4.52, 연간성적_연대율: 20.3, FL: F0L0, 평균사고점: 0.3, 출주횟수: 36.0, 모터_평균착순점: 5.83, 모터_연대율2: 39.1, 모터_연대율3: 60.9, 보트_평균착순점: 5.81, 보트_연대율: 44.3, 1코스_성적: 56.46, 2코스_성적: 29.91, 3코스_성적: 18.68, 4코스_성적: 14.14, 5코스_성적: 2.58, 6코스_성적: 1.79, 최근1경기_착순: 2, 최근2경기_착순: -1, 최근3경기_착순: -1, 최근4경기_착순: -1, 최근5경기_착순: -1, 최근6경기_착순: -1, 최근7경기_착순: 3, 최근8경기_착순: -1'}\n",
      "{'role': 'assistant', 'content': '우승한 선수의 번호는 2번 입니다.'}\n"
     ]
    }
   ],
   "source": [
    "data_path = \"train_single_smaller.jsonl\"\n",
    "\n",
    "# Load the dataset\n",
    "with open(data_path, 'r', encoding='utf-8') as f:\n",
    "    dataset = [json.loads(line) for line in f]\n",
    "\n",
    "# Initial dataset stats\n",
    "print(\"Num examples:\", len(dataset))\n",
    "print(\"First example:\")\n",
    "for message in dataset[0][\"messages\"]:\n",
    "    print(message)"
   ]
  },
  {
   "cell_type": "code",
   "execution_count": 5,
   "id": "89cc2d57-5022-4511-84e2-a6af7ab68e0e",
   "metadata": {},
   "outputs": [
    {
     "name": "stdout",
     "output_type": "stream",
     "text": [
      "No errors found\n"
     ]
    }
   ],
   "source": [
    "format_errors = defaultdict(int)\n",
    "\n",
    "for ex in dataset:\n",
    "    if not isinstance(ex, dict):\n",
    "        format_errors[\"data_type\"] += 1\n",
    "        continue\n",
    "        \n",
    "    messages = ex.get(\"messages\", None)\n",
    "    if not messages:\n",
    "        format_errors[\"missing_messages_list\"] += 1\n",
    "        continue\n",
    "        \n",
    "    for message in messages:\n",
    "        if \"role\" not in message or \"content\" not in message:\n",
    "            format_errors[\"message_missing_key\"] += 1\n",
    "        \n",
    "        if any(k not in (\"role\", \"content\", \"name\", \"function_call\", \"weight\") for k in message):\n",
    "            format_errors[\"message_unrecognized_key\"] += 1\n",
    "        \n",
    "        if message.get(\"role\", None) not in (\"system\", \"user\", \"assistant\", \"function\"):\n",
    "            format_errors[\"unrecognized_role\"] += 1\n",
    "            \n",
    "        content = message.get(\"content\", None)\n",
    "        function_call = message.get(\"function_call\", None)\n",
    "        \n",
    "        if (not content and not function_call) or not isinstance(content, str):\n",
    "            format_errors[\"missing_content\"] += 1\n",
    "    \n",
    "    if not any(message.get(\"role\", None) == \"assistant\" for message in messages):\n",
    "        format_errors[\"example_missing_assistant_message\"] += 1\n",
    "\n",
    "if format_errors:\n",
    "    print(\"Found errors:\")\n",
    "    for k, v in format_errors.items():\n",
    "        print(f\"{k}: {v}\")\n",
    "else:\n",
    "    print(\"No errors found\")"
   ]
  },
  {
   "cell_type": "code",
   "execution_count": 6,
   "id": "8fd42ff6-6457-4192-8dda-3ce7f4907267",
   "metadata": {},
   "outputs": [],
   "source": [
    "encoding = tiktoken.get_encoding(\"cl100k_base\")\n",
    "\n",
    "# not exact!\n",
    "# simplified from https://github.com/openai/openai-cookbook/blob/main/examples/How_to_count_tokens_with_tiktoken.ipynb\n",
    "def num_tokens_from_messages(messages, tokens_per_message=3, tokens_per_name=1):\n",
    "    num_tokens = 0\n",
    "    for message in messages:\n",
    "        num_tokens += tokens_per_message\n",
    "        for key, value in message.items():\n",
    "            num_tokens += len(encoding.encode(value))\n",
    "            if key == \"name\":\n",
    "                num_tokens += tokens_per_name\n",
    "    num_tokens += 3\n",
    "    return num_tokens\n",
    "\n",
    "def num_assistant_tokens_from_messages(messages):\n",
    "    num_tokens = 0\n",
    "    for message in messages:\n",
    "        if message[\"role\"] == \"assistant\":\n",
    "            num_tokens += len(encoding.encode(message[\"content\"]))\n",
    "    return num_tokens\n",
    "\n",
    "def print_distribution(values, name):\n",
    "    print(f\"\\n#### Distribution of {name}:\")\n",
    "    print(f\"min / max: {min(values)}, {max(values)}\")\n",
    "    print(f\"mean / median: {np.mean(values)}, {np.median(values)}\")\n",
    "    print(f\"p5 / p95: {np.quantile(values, 0.1)}, {np.quantile(values, 0.9)}\")"
   ]
  },
  {
   "cell_type": "code",
   "execution_count": 8,
   "id": "715f6278-2c25-45bd-9ed0-2693f857dbc4",
   "metadata": {},
   "outputs": [
    {
     "name": "stdout",
     "output_type": "stream",
     "text": [
      "Num examples missing system message: 0\n",
      "Num examples missing user message: 0\n",
      "\n",
      "#### Distribution of num_messages_per_example:\n",
      "min / max: 3, 3\n",
      "mean / median: 3.0, 3.0\n",
      "p5 / p95: 3.0, 3.0\n",
      "\n",
      "#### Distribution of num_total_tokens_per_example:\n",
      "min / max: 3256, 3262\n",
      "mean / median: 3261.156649313772, 3261.0\n",
      "p5 / p95: 3260.0, 3262.0\n",
      "\n",
      "#### Distribution of num_assistant_tokens_per_example:\n",
      "min / max: 17, 17\n",
      "mean / median: 17.0, 17.0\n",
      "p5 / p95: 17.0, 17.0\n",
      "\n",
      "0 examples may be over the 16,385 token limit, they will be truncated during fine-tuning\n"
     ]
    }
   ],
   "source": [
    "# Warnings and tokens counts\n",
    "n_missing_system = 0\n",
    "n_missing_user = 0\n",
    "n_messages = []\n",
    "convo_lens = []\n",
    "assistant_message_lens = []\n",
    "\n",
    "for ex in dataset:\n",
    "    messages = ex[\"messages\"]\n",
    "    if not any(message[\"role\"] == \"system\" for message in messages):\n",
    "        n_missing_system += 1\n",
    "    if not any(message[\"role\"] == \"user\" for message in messages):\n",
    "        n_missing_user += 1\n",
    "    n_messages.append(len(messages))\n",
    "    convo_lens.append(num_tokens_from_messages(messages))\n",
    "    assistant_message_lens.append(num_assistant_tokens_from_messages(messages))\n",
    "    \n",
    "print(\"Num examples missing system message:\", n_missing_system)\n",
    "print(\"Num examples missing user message:\", n_missing_user)\n",
    "print_distribution(n_messages, \"num_messages_per_example\")\n",
    "print_distribution(convo_lens, \"num_total_tokens_per_example\")\n",
    "print_distribution(assistant_message_lens, \"num_assistant_tokens_per_example\")\n",
    "n_too_long = sum(l > 16385 for l in convo_lens)\n",
    "print(f\"\\n{n_too_long} examples may be over the 16,385 token limit, they will be truncated during fine-tuning\")"
   ]
  },
  {
   "cell_type": "code",
   "execution_count": null,
   "id": "e1c54a9b-b1d5-420e-af9d-b718b018ac21",
   "metadata": {},
   "outputs": [],
   "source": []
  }
 ],
 "metadata": {
  "kernelspec": {
   "display_name": "Python 3 (ipykernel)",
   "language": "python",
   "name": "python3"
  },
  "language_info": {
   "codemirror_mode": {
    "name": "ipython",
    "version": 3
   },
   "file_extension": ".py",
   "mimetype": "text/x-python",
   "name": "python",
   "nbconvert_exporter": "python",
   "pygments_lexer": "ipython3",
   "version": "3.9.13"
  }
 },
 "nbformat": 4,
 "nbformat_minor": 5
}
